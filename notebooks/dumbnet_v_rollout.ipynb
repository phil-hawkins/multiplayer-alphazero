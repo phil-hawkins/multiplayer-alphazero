{
 "cells": [
  {
   "cell_type": "code",
   "execution_count": 1,
   "metadata": {},
   "outputs": [],
   "source": [
    "import os\n",
    "os.chdir('..')\n",
    "import pandas as pd\n",
    "from itertools import permutations\n",
    "import numpy as np\n",
    "from time import time\n",
    "\n",
    "from players.uninformed_mcts_player import UninformedMCTSPlayer, RolloutMCTSPlayer\n",
    "from games.vortex import Vortex_5_20"
   ]
  },
  {
   "cell_type": "code",
   "execution_count": 2,
   "metadata": {},
   "outputs": [],
   "source": [
    "def play_match(game, players, verbose=False):\n",
    "\n",
    "    # permutations to break the dependence on player order in measuring strength.\n",
    "    matches = list(permutations(np.arange(len(players))))\n",
    "    \n",
    "    # Initialize scoreboard\n",
    "    scores = np.zeros((len(matches), game.get_num_players()))\n",
    "\n",
    "    # initialise the Vortex board\n",
    "    vortex_board = game.get_initial_state()\n",
    "\n",
    "    # Run the matches\n",
    "    for i, order in enumerate(matches):\n",
    "        s = vortex_board.copy()\n",
    "\n",
    "        for p in players:\n",
    "            p.reset() # Clear player trees to make the next match fair\n",
    "\n",
    "        game_over = game.check_game_over(s)\n",
    "\n",
    "        while game_over is None:\n",
    "            p = order[game.get_player(s)]\n",
    "            if verbose: print(\"Player #{}'s turn.\".format(p))\n",
    "            s = players[p].update_state(s)\n",
    "            game_over = game.check_game_over(s)\n",
    "\n",
    "        scores[i, list(order)] += game_over\n",
    "\n",
    "    scores = list(scores.flatten().astype(int))\n",
    "    return scores"
   ]
  },
  {
   "cell_type": "code",
   "execution_count": 3,
   "metadata": {},
   "outputs": [],
   "source": [
    "def compare(mcts_sim, match_n):\n",
    "    game = Vortex_5_20()\n",
    "    results = []\n",
    "\n",
    "\n",
    "    rollout = RolloutMCTSPlayer(game, simulations=mcts_sim)\n",
    "    uninformed = UninformedMCTSPlayer(game, simulations=mcts_sim)\n",
    "    players = [rollout, uninformed]\n",
    "\n",
    "    print(\"RMCTS: {}, UMCTS: {}\".format(mcts_sim, mcts_sim))\n",
    "\n",
    "    for i in range(match_n):\n",
    "        match = [mcts_sim, mcts_sim, i]\n",
    "        tic = time()\n",
    "        scores = play_match(game, players, verbose=False)\n",
    "        toc = time()\n",
    "        print(\"  match {}, score {}, time {:.2f}s\".format(i, scores, toc-tic))\n",
    "        results.append(match + scores)\n",
    "\n"
   ]
  },
  {
   "cell_type": "code",
   "execution_count": null,
   "metadata": {},
   "outputs": [],
   "source": [
    "mcts_sims = 500\n",
    "match_n = 50\n",
    "\n",
    "compare(mcts_sim=mcts_sims, match_n=match_n)"
   ]
  },
  {
   "cell_type": "code",
   "execution_count": null,
   "metadata": {},
   "outputs": [],
   "source": [
    "def compare(mcts_sim, match_n):\n",
    "    game = Vortex_5_20()\n",
    "    results = []\n",
    "\n",
    "    rollout = RolloutMCTSPlayer(game, simulations=mcts_sim)\n",
    "    uninformed = UninformedMCTSPlayer(game, simulations=mcts_sim)\n",
    "    players = [rollout, uninformed]\n",
    "\n",
    "    print(\"RMCTS: {}, UMCTS: {}\".format(mcts_sim, mcts_sim))\n",
    "\n",
    "    for i in range(match_n):\n",
    "        match = [mcts_sim, mcts_sim, i]\n",
    "        tic = time()\n",
    "        scores = play_match(game, players, verbose=False)\n",
    "        toc = time()\n",
    "        print(\"  match {}, score {}, time {:.2f}s\".format(i, scores, toc-tic))\n",
    "        results.append(match + scores)\n",
    "\n"
   ]
  }
 ],
 "metadata": {
  "interpreter": {
   "hash": "7574f5d857af8f1e8f26ae1ddb33f0e7cd225dc65e7450a2fdad37c59c700f3c"
  },
  "kernelspec": {
   "display_name": "Python 3.9.7 64-bit ('maz': conda)",
   "language": "python",
   "name": "python3"
  },
  "language_info": {
   "codemirror_mode": {
    "name": "ipython",
    "version": 3
   },
   "file_extension": ".py",
   "mimetype": "text/x-python",
   "name": "python",
   "nbconvert_exporter": "python",
   "pygments_lexer": "ipython3",
   "version": "3.9.7"
  },
  "orig_nbformat": 4
 },
 "nbformat": 4,
 "nbformat_minor": 2
}
